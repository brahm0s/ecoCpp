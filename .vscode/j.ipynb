{
 "cells": [
  {
   "cell_type": "code",
   "execution_count": 35,
   "metadata": {},
   "outputs": [],
   "source": [
    "import pandas as pd \n",
    "import numpy as np \n",
    "import seaborn as sns\n",
    "import matplotlib \n",
    "import matplotlib.pyplot as plt\n",
    "\n",
    "df = pd.read_csv(\"output.csv\")\n",
    "pivoted_df = df.pivot_table(index='FirmID', columns=df.groupby('FirmID').cumcount()+1, values='output')\n",
    "# rename the columns to indicate the day number\n",
    "num_days = pivoted_df.shape[1]\n",
    "pivoted_df.columns = [f\"day{i}\" for i in range(1, num_days+1)]\n",
    "\n",
    "# reset the index to make FirmID a regular column\n",
    "pivoted_df.reset_index(inplace=True)\n",
    "\n",
    "firm_list= df['FirmID'].unique()\n",
    "\n",
    "\n",
    "pivoted_df.set_index('FirmID', inplace=True)\n",
    "\n",
    "for i in firm_list:\n",
    "    firm_data = pivoted_df.loc[i]\n",
    "\n",
    "    # Plot the line chart\n",
    "    plt.figure()\n",
    "    firm_data.plot(kind='line')\n",
    "\n",
    "    # Add labels and title\n",
    "    plt.xlabel('Days')\n",
    "    plt.ylabel('Value')\n",
    "    plt.title(f'Values for Firm {i} over Days')\n",
    "\n",
    "    # Save the figure\n",
    "    plt.savefig(f'firm_{i}.png')\n",
    "\n",
    "    # Close the figure\n",
    "  \n",
    "\n",
    "    plt.savefig(f'{i}.png')\n",
    "\n",
    "    plt.close()"
   ]
  },
  {
   "cell_type": "code",
   "execution_count": 31,
   "metadata": {},
   "outputs": [],
   "source": [
    "\n",
    "\n",
    "pivoted_df.set_index('FirmID', inplace=True)\n",
    "\n",
    "for i in firm_list:\n",
    "    firm_data = pivoted_df.loc[i]\n",
    "\n",
    "    # Plot the line chart\n",
    "    plt.figure()\n",
    "    firm_data.plot(kind='line')\n",
    "\n",
    "    # Add labels and title\n",
    "    plt.xlabel('Days')\n",
    "    plt.ylabel('Value')\n",
    "    plt.title(f'Values for Firm {i} over Days')\n",
    "\n",
    "    # Save the figure\n",
    "    plt.savefig(f'firm_{i}.png')\n",
    "\n",
    "    # Close the figure\n",
    "    plt.close()\n"
   ]
  },
  {
   "cell_type": "code",
   "execution_count": null,
   "metadata": {},
   "outputs": [],
   "source": []
  },
  {
   "cell_type": "code",
   "execution_count": null,
   "metadata": {},
   "outputs": [],
   "source": []
  }
 ],
 "metadata": {
  "kernelspec": {
   "display_name": "playground",
   "language": "python",
   "name": "python3"
  },
  "language_info": {
   "codemirror_mode": {
    "name": "ipython",
    "version": 3
   },
   "file_extension": ".py",
   "mimetype": "text/x-python",
   "name": "python",
   "nbconvert_exporter": "python",
   "pygments_lexer": "ipython3",
   "version": "3.10.9"
  },
  "orig_nbformat": 4
 },
 "nbformat": 4,
 "nbformat_minor": 2
}
